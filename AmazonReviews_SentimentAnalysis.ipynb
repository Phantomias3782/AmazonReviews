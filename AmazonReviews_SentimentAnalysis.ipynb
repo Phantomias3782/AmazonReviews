{
 "cells": [
  {
   "cell_type": "markdown",
   "metadata": {},
   "source": [
    "# This Notebook will include graphical analysis of Amazon review data"
   ]
  },
  {
   "cell_type": "markdown",
   "metadata": {},
   "source": [
    "Source:\n",
    "\n",
    "Justifying recommendations using distantly-labeled reviews and fined-grained aspects.\n",
    "\n",
    "Jianmo Ni, Jiacheng Li, Julian McAuley.\n",
    "\n",
    "Empirical Methods in Natural Language Processing (EMNLP), 2019.\n",
    "\n",
    "https://nijianmo.github.io/amazon/index.html\n",
    "\n",
    "http://deepyeti.ucsd.edu/jianmo/amazon/index.html"
   ]
  },
  {
   "cell_type": "markdown",
   "metadata": {},
   "source": [
    "------------------------------"
   ]
  },
  {
   "cell_type": "markdown",
   "metadata": {},
   "source": [
    "Sentiment analysis code shall be later on transfered to .py files for easy execution"
   ]
  },
  {
   "cell_type": "markdown",
   "metadata": {},
   "source": [
    "---------------"
   ]
  },
  {
   "cell_type": "markdown",
   "metadata": {},
   "source": [
    "# Data Transformation"
   ]
  },
  {
   "cell_type": "markdown",
   "metadata": {},
   "source": [
    "## Import Libraries"
   ]
  },
  {
   "cell_type": "code",
   "execution_count": 1,
   "metadata": {},
   "outputs": [],
   "source": [
    "import pandas as pd\n",
    "import numpy as np\n",
    "import json\n",
    "import matplotlib.pyplot as plt\n",
    "from sklearn.utils import shuffle\n",
    "from sklearn.model_selection import train_test_split\n",
    "import math\n",
    "from scipy.spatial import distance\n",
    "from sklearn.metrics import accuracy_score\n",
    "\n",
    "# custom files\n",
    "from word_vectorization import create_tf_vector_all_reviews, create_idf_dictionary, create_word_vector_dict\n",
    "from data_transformation import get_overview, clean_data, balancing\n",
    "from knn import knn"
   ]
  },
  {
   "cell_type": "markdown",
   "metadata": {},
   "source": [
    "--------"
   ]
  },
  {
   "cell_type": "markdown",
   "metadata": {},
   "source": [
    "## Import Data"
   ]
  },
  {
   "cell_type": "code",
   "execution_count": 2,
   "metadata": {},
   "outputs": [],
   "source": [
    "# read subset data\n",
    "path = \"./data/AMAZON_FASHION_5.json\"\n",
    "\n",
    "# data = pd.read_json(path, lines = True)\n",
    "\n",
    "# read full data\n",
    "\n",
    "# path = \"./data/AMAZON_FASHION_FULL.json\"\n",
    "\n",
    "data = pd.read_json(path, lines = True)"
   ]
  },
  {
   "cell_type": "markdown",
   "metadata": {},
   "source": [
    "-------"
   ]
  },
  {
   "cell_type": "markdown",
   "metadata": {},
   "source": [
    "# Data overview"
   ]
  },
  {
   "cell_type": "code",
   "execution_count": 3,
   "metadata": {
    "scrolled": false
   },
   "outputs": [
    {
     "name": "stdout",
     "output_type": "stream",
     "text": [
      "Data has 3176 datapoints.\n",
      "Data has 12 columns.\n",
      "Columns: dtype\n",
      "{'overall': 'int64', 'verified': 'bool', 'reviewTime': 'object', 'reviewerID': 'object', 'asin': 'object', 'style': 'object', 'reviewerName': 'object', 'reviewText': 'object', 'summary': 'object', 'unixReviewTime': 'int64', 'vote': 'float64', 'image': 'object'}\n"
     ]
    }
   ],
   "source": [
    "get_overview(data)"
   ]
  },
  {
   "cell_type": "markdown",
   "metadata": {},
   "source": [
    "--------"
   ]
  },
  {
   "cell_type": "markdown",
   "metadata": {},
   "source": [
    "## Data Cleaning"
   ]
  },
  {
   "cell_type": "code",
   "execution_count": 4,
   "metadata": {
    "scrolled": true
   },
   "outputs": [
    {
     "name": "stdout",
     "output_type": "stream",
     "text": [
      "Dropped 10 columns.\n",
      "Droppend 16 null values.\n",
      "Data contains now 3160 datapoints.\n"
     ]
    }
   ],
   "source": [
    "keepColumns = [\"overall\", \"reviewText\"]\n",
    "data = clean_data(data, keepColumns)"
   ]
  },
  {
   "cell_type": "markdown",
   "metadata": {},
   "source": [
    "-------"
   ]
  },
  {
   "cell_type": "markdown",
   "metadata": {},
   "source": [
    "## Balancing"
   ]
  },
  {
   "cell_type": "code",
   "execution_count": 5,
   "metadata": {
    "scrolled": false
   },
   "outputs": [
    {
     "name": "stdout",
     "output_type": "stream",
     "text": [
      "Most saved rating is 5 with 2142 datapoints.\n",
      "Least saved rating is 2 with 93 datapoints.\n"
     ]
    },
    {
     "data": {
      "image/png": "[encoded data removed]",
      "text/plain": [
       "<Figure size 432x288 with 1 Axes>"
      ]
     },
     "metadata": {
      "needs_background": "light"
     },
     "output_type": "display_data"
    }
   ],
   "source": [
    "max_num = 50 # replace lateron\n",
    "data = balancing(data, balancing = True, max_num = max_num)"
   ]
  },
  {
   "cell_type": "code",
   "execution_count": 6,
   "metadata": {},
   "outputs": [
    {
     "name": "stdout",
     "output_type": "stream",
     "text": [
      "Most saved rating is 1 with 50 datapoints.\n",
      "Least saved rating is 1 with 50 datapoints.\n"
     ]
    },
    {
     "data": {
      "image/png": "[encoded data removed]",
      "text/plain": [
       "<Figure size 432x288 with 1 Axes>"
      ]
     },
     "metadata": {
      "needs_background": "light"
     },
     "output_type": "display_data"
    }
   ],
   "source": [
    "# check balancing\n",
    "balancing(data, balancing = False, max_num = None)"
   ]
  },
  {
   "cell_type": "markdown",
   "metadata": {},
   "source": [
    "-------"
   ]
  },
  {
   "cell_type": "markdown",
   "metadata": {},
   "source": [
    "## Word Vectors"
   ]
  },
  {
   "cell_type": "code",
   "execution_count": 6,
   "metadata": {},
   "outputs": [],
   "source": [
    "def save_dict_to_json(dic, filename):\n",
    "    \n",
    "    # append .json\n",
    "    filename += \".json\"\n",
    "    \n",
    "    f = open(filename, \"w\")\n",
    "    json.dump(dic, f)\n",
    "    f.close()\n",
    "\n",
    "def load_doc_from_json(filename):\n",
    "    \n",
    "    # append .json\n",
    "    filename += \".json\"\n",
    "    \n",
    "    f = open(filename, \"w\")\n",
    "    dic = f.read()\n",
    "    f.close()"
   ]
  },
  {
   "cell_type": "code",
   "execution_count": 7,
   "metadata": {},
   "outputs": [],
   "source": [
    "# create review_dict\n",
    "review_dict = create_tf_vector_all_reviews(data)\n",
    "#save_dict_to_json(review_dict, \"review_dict\")\n",
    "\n",
    "# create idf dict\n",
    "idf_dict = create_idf_dictionary(review_dict)\n",
    "#save_dict_to_json(idf_dict, \"idf_dict\")\n",
    "\n",
    "# create word_vec_dict\n",
    "word_vec_dict = create_word_vector_dict(review_dict, idf_dict) # speed = 0.2 seconds per datapoint\n",
    "#np.save('word_vec_dict.npy', word_vec_dict)\n",
    "\n",
    "# include word_vec_dict in dataframe\n",
    "data[\"word_vectors\"] = word_vec_dict.values()"
   ]
  },
  {
   "cell_type": "code",
   "execution_count": 9,
   "metadata": {},
   "outputs": [],
   "source": [
    "# alternative without processing word vectors\n",
    "word_vec_dict = np.load('word_vec_dict.npy', allow_pickle=True)[()]\n",
    "data[\"word_vectors\"] = word_vec_dict.values()\n",
    "data.to_json(\"data_with_word_vectors\")"
   ]
  },
  {
   "cell_type": "code",
   "execution_count": 8,
   "metadata": {
    "scrolled": true
   },
   "outputs": [
    {
     "data": {
      "text/html": [
       "<div>\n",
       "<style scoped>\n",
       "    .dataframe tbody tr th:only-of-type {\n",
       "        vertical-align: middle;\n",
       "    }\n",
       "\n",
       "    .dataframe tbody tr th {\n",
       "        vertical-align: top;\n",
       "    }\n",
       "\n",
       "    .dataframe thead th {\n",
       "        text-align: right;\n",
       "    }\n",
       "</style>\n",
       "<table border=\"1\" class=\"dataframe\">\n",
       "  <thead>\n",
       "    <tr style=\"text-align: right;\">\n",
       "      <th></th>\n",
       "      <th>overall</th>\n",
       "      <th>reviewText</th>\n",
       "      <th>word_vectors</th>\n",
       "    </tr>\n",
       "  </thead>\n",
       "  <tbody>\n",
       "    <tr>\n",
       "      <th>0</th>\n",
       "      <td>2</td>\n",
       "      <td>Relieved my Plantar Fascitis for 3 Days. Then ...</td>\n",
       "      <td>(0.0, 0.0, 0.0, 0.0, 0.0, 0.0, 0.0, 0.0, 0.0, ...</td>\n",
       "    </tr>\n",
       "    <tr>\n",
       "      <th>1</th>\n",
       "      <td>2</td>\n",
       "      <td>This is my 6th pair and they are the best thin...</td>\n",
       "      <td>(0.0, 0.0, 0.0, 0.0, 0.0, 0.0, 0.0, 0.0, 0.0, ...</td>\n",
       "    </tr>\n",
       "    <tr>\n",
       "      <th>2</th>\n",
       "      <td>2</td>\n",
       "      <td>Relieved my Plantar Fascitis for 3 Days. Then ...</td>\n",
       "      <td>(0.0, 0.0, 0.0, 0.0, 0.0, 0.0, 0.0, 0.0, 0.0, ...</td>\n",
       "    </tr>\n",
       "    <tr>\n",
       "      <th>3</th>\n",
       "      <td>2</td>\n",
       "      <td>This is my 6th pair and they are the best thin...</td>\n",
       "      <td>(0.0, 0.0, 0.0, 0.0, 0.0, 0.0, 0.0, 0.0, 0.0, ...</td>\n",
       "    </tr>\n",
       "    <tr>\n",
       "      <th>4</th>\n",
       "      <td>2</td>\n",
       "      <td>Nice pants but too small for a medium. Return it.</td>\n",
       "      <td>(0.0, 0.0, 0.0, 0.0, 0.0, 0.0, 0.0, 0.0, 0.0, ...</td>\n",
       "    </tr>\n",
       "  </tbody>\n",
       "</table>\n",
       "</div>"
      ],
      "text/plain": [
       "   overall                                         reviewText  \\\n",
       "0        2  Relieved my Plantar Fascitis for 3 Days. Then ...   \n",
       "1        2  This is my 6th pair and they are the best thin...   \n",
       "2        2  Relieved my Plantar Fascitis for 3 Days. Then ...   \n",
       "3        2  This is my 6th pair and they are the best thin...   \n",
       "4        2  Nice pants but too small for a medium. Return it.   \n",
       "\n",
       "                                        word_vectors  \n",
       "0  (0.0, 0.0, 0.0, 0.0, 0.0, 0.0, 0.0, 0.0, 0.0, ...  \n",
       "1  (0.0, 0.0, 0.0, 0.0, 0.0, 0.0, 0.0, 0.0, 0.0, ...  \n",
       "2  (0.0, 0.0, 0.0, 0.0, 0.0, 0.0, 0.0, 0.0, 0.0, ...  \n",
       "3  (0.0, 0.0, 0.0, 0.0, 0.0, 0.0, 0.0, 0.0, 0.0, ...  \n",
       "4  (0.0, 0.0, 0.0, 0.0, 0.0, 0.0, 0.0, 0.0, 0.0, ...  "
      ]
     },
     "execution_count": 8,
     "metadata": {},
     "output_type": "execute_result"
    }
   ],
   "source": [
    "# get a look at the data\n",
    "data.head()"
   ]
  },
  {
   "cell_type": "markdown",
   "metadata": {},
   "source": [
    "------"
   ]
  },
  {
   "cell_type": "markdown",
   "metadata": {},
   "source": [
    "## Train Test Split"
   ]
  },
  {
   "cell_type": "code",
   "execution_count": 9,
   "metadata": {},
   "outputs": [],
   "source": [
    "# create test and training dataset\n",
    "test_size = 0.2\n",
    "train_data, test_data = train_test_split(data,\n",
    "                                         test_size = test_size,\n",
    "                                         shuffle=True,\n",
    "                                         stratify = data[\"overall\"]\n",
    "                                        )\n",
    "\n",
    "train_data = train_data.reset_index(drop = True)\n",
    "test_data = test_data.reset_index(drop = True)"
   ]
  },
  {
   "cell_type": "markdown",
   "metadata": {},
   "source": [
    "-------"
   ]
  },
  {
   "cell_type": "markdown",
   "metadata": {},
   "source": [
    "# Now start Sentiment analysis"
   ]
  },
  {
   "cell_type": "markdown",
   "metadata": {},
   "source": [
    "-------"
   ]
  },
  {
   "cell_type": "markdown",
   "metadata": {},
   "source": [
    "## knn"
   ]
  },
  {
   "cell_type": "code",
   "execution_count": 14,
   "metadata": {
    "scrolled": true
   },
   "outputs": [
    {
     "name": "stdout",
     "output_type": "stream",
     "text": [
      "Test Datapoint has class: 5\n"
     ]
    }
   ],
   "source": [
    "# test single n\n",
    "\n",
    "# init variables\n",
    "data_point = test_data[:1]\n",
    "data_point_class = data_point[\"overall\"]\n",
    "data_point = np.asarray(data_point[\"word_vectors\"].to_list())\n",
    "n = 3\n",
    "\n",
    "# calc class\n",
    "calc_class = knn(train_data, data_point, n)\n",
    "\n",
    "print(f\"Test Datapoint has class: {calc_class}\")"
   ]
  },
  {
   "cell_type": "code",
   "execution_count": 15,
   "metadata": {},
   "outputs": [
    {
     "data": {
      "text/plain": [
       "0    5\n",
       "Name: overall, dtype: int64"
      ]
     },
     "execution_count": 15,
     "metadata": {},
     "output_type": "execute_result"
    }
   ],
   "source": [
    "data_point_class"
   ]
  },
  {
   "cell_type": "code",
   "execution_count": 17,
   "metadata": {},
   "outputs": [
    {
     "name": "stdout",
     "output_type": "stream",
     "text": [
      "Test Datapoint has class: {1: 5, 2: 5, 3: 5, 4: 5, 5: 3}\n"
     ]
    }
   ],
   "source": [
    "# test multiple n\n",
    "\n",
    "# init variables\n",
    "data_point = test_data[:1]\n",
    "data_point_class = data_point[\"overall\"]\n",
    "data_point = np.asarray(data_point[\"word_vectors\"].to_list())\n",
    "n = [1,2,3,4,5]\n",
    "\n",
    "# calc class\n",
    "calc_class = knn(train_data, data_point, n)\n",
    "\n",
    "print(f\"Test Datapoint has class: {calc_class}\")"
   ]
  },
  {
   "cell_type": "code",
   "execution_count": 18,
   "metadata": {},
   "outputs": [
    {
     "data": {
      "text/plain": [
       "0    5\n",
       "Name: overall, dtype: int64"
      ]
     },
     "execution_count": 18,
     "metadata": {},
     "output_type": "execute_result"
    }
   ],
   "source": [
    "data_point_class"
   ]
  },
  {
   "cell_type": "code",
   "execution_count": 19,
   "metadata": {},
   "outputs": [
    {
     "data": {
      "image/png": "[encoded data removed]",
      "text/plain": [
       "<Figure size 432x288 with 1 Axes>"
      ]
     },
     "metadata": {
      "needs_background": "light"
     },
     "output_type": "display_data"
    }
   ],
   "source": [
    "# test accuracy\n",
    "\n",
    "# get test data\n",
    "test_vectors = test_data[\"word_vectors\"].to_list()\n",
    "test_classes = test_data[\"overall\"].to_list()\n",
    "\n",
    "# init variables\n",
    "pred_class = []\n",
    "n_test = list(range(1,30))\n",
    "\n",
    "# get classes \n",
    "for t_vector in test_vectors:\n",
    "\n",
    "    pred_class.append(knn(train_data, np.asarray(t_vector), n_test))\n",
    "    \n",
    "# init accuracy dict\n",
    "acc_dict = {}\n",
    "\n",
    "for sub_n in n_test:\n",
    "    \n",
    "    sub_n_val_classes = []\n",
    "    \n",
    "    for test_el in pred_class:\n",
    "        \n",
    "        sub_n_val_classes.append(test_el[sub_n])\n",
    "    \n",
    "    # get accuracy of sub_n\n",
    "    accuracy = accuracy_score(test_classes, sub_n_val_classes)\n",
    "    acc_dict[sub_n] = accuracy\n",
    "\n",
    "# visualize\n",
    "plt.plot(list(acc_dict.keys()), list(acc_dict.values()))\n",
    "plt.show()"
   ]
  },
  {
   "cell_type": "markdown",
   "metadata": {},
   "source": [
    "----"
   ]
  },
  {
   "cell_type": "code",
   "execution_count": 19,
   "metadata": {},
   "outputs": [],
   "source": [
    "# Implement K nearest Neigbours\n",
    "def knn(train_data, data_point, n):\n",
    "    \n",
    "    vectors = train_data[\"word_vectors\"].to_list()\n",
    "    \n",
    "    distances = {}\n",
    "    count = 0\n",
    "    \n",
    "    for vector in vectors:\n",
    "        \n",
    "        distances[count] = distance.euclidean(data_point, np.asarray(vector))\n",
    "        count += 1\n",
    "    \n",
    "    # sort dictionary\n",
    "    distances = {k: v for k, v in sorted(distances.items(), key=lambda item: item[1])}\n",
    "    \n",
    "    classes_indexes = list(distances.keys())[:n]\n",
    "    classes = {}\n",
    "    \n",
    "    for i in classes_indexes:\n",
    "        \n",
    "        if train_data.iloc[i][\"overall\"] in list(classes.keys()):\n",
    "            \n",
    "            classes[train_data.iloc[i][\"overall\"]] += 1\n",
    "        \n",
    "        else:\n",
    "            \n",
    "            classes[train_data.iloc[i][\"overall\"]] = 1\n",
    "    \n",
    "    max_class = max(classes, key = classes.get)\n",
    "    \n",
    "    return max_class"
   ]
  },
  {
   "cell_type": "code",
   "execution_count": 20,
   "metadata": {},
   "outputs": [],
   "source": [
    "test_vectors = test_data[\"word_vectors\"].to_list()\n",
    "test_classes = test_data[\"overall\"].to_list()"
   ]
  },
  {
   "cell_type": "code",
   "execution_count": 21,
   "metadata": {},
   "outputs": [],
   "source": [
    "def test(n_test):\n",
    "\n",
    "    pred_class = []\n",
    "    for t_vector in test_vectors:\n",
    "\n",
    "        pred_class.append(knn(train_data, np.asarray(t_vector), n_test))\n",
    "\n",
    "    accuracy = accuracy_score(test_classes, pred_class)\n",
    "    #print(f\"accuracy is: {accuracy}\")\n",
    "    return accuracy"
   ]
  },
  {
   "cell_type": "code",
   "execution_count": null,
   "metadata": {},
   "outputs": [],
   "source": [
    "evalualtion_dict = {}\n",
    "\n",
    "for n_test in range(1, 30):\n",
    "    \n",
    "    evalualtion_dict[n_test] = test(n_test)"
   ]
  },
  {
   "cell_type": "code",
   "execution_count": null,
   "metadata": {},
   "outputs": [],
   "source": [
    "# visualize\n",
    "plt.plot(list(evalualtion_dict.keys()), list(evalualtion_dict.values()))\n",
    "plt.show()"
   ]
  },
  {
   "cell_type": "code",
   "execution_count": 98,
   "metadata": {},
   "outputs": [
    {
     "data": {
      "image/png": "[encoded data removed]",
      "text/plain": [
       "<Figure size 432x288 with 1 Axes>"
      ]
     },
     "metadata": {
      "needs_background": "light"
     },
     "output_type": "display_data"
    }
   ],
   "source": [
    "# visualize \n",
    "plt.plot(list(evalualtion_dict.keys()), list(evalualtion_dict.values()))\n",
    "plt.show()"
   ]
  },
  {
   "cell_type": "markdown",
   "metadata": {},
   "source": [
    "----------"
   ]
  },
  {
   "cell_type": "markdown",
   "metadata": {},
   "source": [
    "Task: knn in own python file, rewrite to be completly independent of other libs"
   ]
  },
  {
   "cell_type": "markdown",
   "metadata": {},
   "source": [
    "-------------"
   ]
  },
  {
   "cell_type": "code",
   "execution_count": 39,
   "metadata": {},
   "outputs": [],
   "source": [
    "test = vectors[1]\n",
    "train = vectors[0]"
   ]
  },
  {
   "cell_type": "code",
   "execution_count": 75,
   "metadata": {},
   "outputs": [],
   "source": [
    "data_point = np.asarray(test_data.loc[0][\"word_vectors\"])"
   ]
  },
  {
   "cell_type": "code",
   "execution_count": 76,
   "metadata": {},
   "outputs": [
    {
     "name": "stdout",
     "output_type": "stream",
     "text": [
      "2\n"
     ]
    }
   ],
   "source": [
    "print(knn(train_data, data_point, 10))"
   ]
  },
  {
   "cell_type": "code",
   "execution_count": 70,
   "metadata": {},
   "outputs": [
    {
     "data": {
      "text/html": [
       "<div>\n",
       "<style scoped>\n",
       "    .dataframe tbody tr th:only-of-type {\n",
       "        vertical-align: middle;\n",
       "    }\n",
       "\n",
       "    .dataframe tbody tr th {\n",
       "        vertical-align: top;\n",
       "    }\n",
       "\n",
       "    .dataframe thead th {\n",
       "        text-align: right;\n",
       "    }\n",
       "</style>\n",
       "<table border=\"1\" class=\"dataframe\">\n",
       "  <thead>\n",
       "    <tr style=\"text-align: right;\">\n",
       "      <th></th>\n",
       "      <th>overall</th>\n",
       "      <th>reviewText</th>\n",
       "      <th>summary</th>\n",
       "      <th>word_vectors</th>\n",
       "    </tr>\n",
       "  </thead>\n",
       "  <tbody>\n",
       "    <tr>\n",
       "      <th>0</th>\n",
       "      <td>3</td>\n",
       "      <td>Nice</td>\n",
       "      <td>Three Stars</td>\n",
       "      <td>(0.0, 0.0, 0.0, 0.0, 0.0, 0.0, 0.0, 0.0, 0.0, ...</td>\n",
       "    </tr>\n",
       "    <tr>\n",
       "      <th>1</th>\n",
       "      <td>3</td>\n",
       "      <td>They're ugly: the toe is rounded and the mater...</td>\n",
       "      <td>the Nike Womens Flex Trainer 6 is way better l...</td>\n",
       "      <td>(0.0, 0.0, 0.30975149678639335, 0.0, 0.0, 0.0,...</td>\n",
       "    </tr>\n",
       "    <tr>\n",
       "      <th>2</th>\n",
       "      <td>1</td>\n",
       "      <td>Ordered 9(m) received 9 Wide for the second ti...</td>\n",
       "      <td>One Star</td>\n",
       "      <td>(0.0, 0.0, 0.0, 0.0, 0.0, 0.0, 0.0, 0.0, 0.0, ...</td>\n",
       "    </tr>\n",
       "    <tr>\n",
       "      <th>3</th>\n",
       "      <td>1</td>\n",
       "      <td>I've not even had them a month and the bottom ...</td>\n",
       "      <td>Falling apart already!!</td>\n",
       "      <td>(0.0, 0.0, 0.0, 0.0, 0.0, 0.0, 0.0, 0.0, 0.0, ...</td>\n",
       "    </tr>\n",
       "    <tr>\n",
       "      <th>4</th>\n",
       "      <td>3</td>\n",
       "      <td>I bought a pair of these in my size, but they ...</td>\n",
       "      <td>Get a half-size or more larger than usual.</td>\n",
       "      <td>(0.0, 0.0, 0.0, 0.0, 0.0, 0.0, 0.0, 0.0, 0.0, ...</td>\n",
       "    </tr>\n",
       "    <tr>\n",
       "      <th>5</th>\n",
       "      <td>4</td>\n",
       "      <td>Very good overall.\\nNow Ive been a huge Sketch...</td>\n",
       "      <td>Good shoes</td>\n",
       "      <td>(0.0, 0.0, 0.0, 0.0, 0.0, 0.0, 0.0, 0.0, 0.0, ...</td>\n",
       "    </tr>\n",
       "    <tr>\n",
       "      <th>6</th>\n",
       "      <td>1</td>\n",
       "      <td>Waaaay too BIG</td>\n",
       "      <td>One Star</td>\n",
       "      <td>(0.0, 0.0, 0.0, 0.0, 0.0, 0.0, 0.0, 0.0, 0.0, ...</td>\n",
       "    </tr>\n",
       "    <tr>\n",
       "      <th>7</th>\n",
       "      <td>5</td>\n",
       "      <td>Great shoes. Fit perfectly. Comfortable right ...</td>\n",
       "      <td>Great shoes. Fit perfectly</td>\n",
       "      <td>(0.0, 0.0, 0.0, 0.0, 0.0, 0.0, 0.0, 0.0, 0.0, ...</td>\n",
       "    </tr>\n",
       "    <tr>\n",
       "      <th>8</th>\n",
       "      <td>2</td>\n",
       "      <td>I returned these as they were not true to size...</td>\n",
       "      <td>Not true to size</td>\n",
       "      <td>(0.0, 0.0, 0.0, 0.0, 0.0, 0.0, 0.0, 0.0, 0.0, ...</td>\n",
       "    </tr>\n",
       "    <tr>\n",
       "      <th>9</th>\n",
       "      <td>3</td>\n",
       "      <td>No arch support but l love the colors!</td>\n",
       "      <td>Three Stars</td>\n",
       "      <td>(0.0, 0.0, 0.0, 0.0, 0.0, 0.0, 0.0, 0.0, 0.0, ...</td>\n",
       "    </tr>\n",
       "  </tbody>\n",
       "</table>\n",
       "</div>"
      ],
      "text/plain": [
       "   overall                                         reviewText  \\\n",
       "0        3                                               Nice   \n",
       "1        3  They're ugly: the toe is rounded and the mater...   \n",
       "2        1  Ordered 9(m) received 9 Wide for the second ti...   \n",
       "3        1  I've not even had them a month and the bottom ...   \n",
       "4        3  I bought a pair of these in my size, but they ...   \n",
       "5        4  Very good overall.\\nNow Ive been a huge Sketch...   \n",
       "6        1                                     Waaaay too BIG   \n",
       "7        5  Great shoes. Fit perfectly. Comfortable right ...   \n",
       "8        2  I returned these as they were not true to size...   \n",
       "9        3             No arch support but l love the colors!   \n",
       "\n",
       "                                             summary  \\\n",
       "0                                        Three Stars   \n",
       "1  the Nike Womens Flex Trainer 6 is way better l...   \n",
       "2                                           One Star   \n",
       "3                            Falling apart already!!   \n",
       "4         Get a half-size or more larger than usual.   \n",
       "5                                         Good shoes   \n",
       "6                                           One Star   \n",
       "7                         Great shoes. Fit perfectly   \n",
       "8                                   Not true to size   \n",
       "9                                        Three Stars   \n",
       "\n",
       "                                        word_vectors  \n",
       "0  (0.0, 0.0, 0.0, 0.0, 0.0, 0.0, 0.0, 0.0, 0.0, ...  \n",
       "1  (0.0, 0.0, 0.30975149678639335, 0.0, 0.0, 0.0,...  \n",
       "2  (0.0, 0.0, 0.0, 0.0, 0.0, 0.0, 0.0, 0.0, 0.0, ...  \n",
       "3  (0.0, 0.0, 0.0, 0.0, 0.0, 0.0, 0.0, 0.0, 0.0, ...  \n",
       "4  (0.0, 0.0, 0.0, 0.0, 0.0, 0.0, 0.0, 0.0, 0.0, ...  \n",
       "5  (0.0, 0.0, 0.0, 0.0, 0.0, 0.0, 0.0, 0.0, 0.0, ...  \n",
       "6  (0.0, 0.0, 0.0, 0.0, 0.0, 0.0, 0.0, 0.0, 0.0, ...  \n",
       "7  (0.0, 0.0, 0.0, 0.0, 0.0, 0.0, 0.0, 0.0, 0.0, ...  \n",
       "8  (0.0, 0.0, 0.0, 0.0, 0.0, 0.0, 0.0, 0.0, 0.0, ...  \n",
       "9  (0.0, 0.0, 0.0, 0.0, 0.0, 0.0, 0.0, 0.0, 0.0, ...  "
      ]
     },
     "execution_count": 70,
     "metadata": {},
     "output_type": "execute_result"
    }
   ],
   "source": [
    "test_data.head(10)"
   ]
  },
  {
   "cell_type": "code",
   "execution_count": null,
   "metadata": {},
   "outputs": [],
   "source": []
  }
 ],
 "metadata": {
  "kernelspec": {
   "display_name": "Python 3",
   "language": "python",
   "name": "python3"
  },
  "language_info": {
   "codemirror_mode": {
    "name": "ipython",
    "version": 3
   },
   "file_extension": ".py",
   "mimetype": "text/x-python",
   "name": "python",
   "nbconvert_exporter": "python",
   "pygments_lexer": "ipython3",
   "version": "3.7.5"
  }
 },
 "nbformat": 4,
 "nbformat_minor": 4
}
