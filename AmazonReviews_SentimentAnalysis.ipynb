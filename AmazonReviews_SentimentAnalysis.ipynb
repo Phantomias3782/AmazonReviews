{
 "cells": [
  {
   "cell_type": "markdown",
   "metadata": {},
   "source": [
    "# This Notebook will include graphical analysis of Amazon review data"
   ]
  },
  {
   "cell_type": "markdown",
   "metadata": {},
   "source": [
    "Source:\n",
    "\n",
    "Justifying recommendations using distantly-labeled reviews and fined-grained aspects.\n",
    "\n",
    "Jianmo Ni, Jiacheng Li, Julian McAuley.\n",
    "\n",
    "Empirical Methods in Natural Language Processing (EMNLP), 2019.\n",
    "\n",
    "https://nijianmo.github.io/amazon/index.html\n",
    "\n",
    "http://deepyeti.ucsd.edu/jianmo/amazon/index.html"
   ]
  },
  {
   "cell_type": "markdown",
   "metadata": {},
   "source": [
    "------------------------------"
   ]
  },
  {
   "cell_type": "markdown",
   "metadata": {},
   "source": [
    "Sentiment analysis code shall be later on transfered to .py files for easy execution"
   ]
  },
  {
   "cell_type": "markdown",
   "metadata": {},
   "source": [
    "---------------"
   ]
  },
  {
   "cell_type": "markdown",
   "metadata": {},
   "source": [
    "# Data Transformation"
   ]
  },
  {
   "cell_type": "markdown",
   "metadata": {},
   "source": [
    "## Import Libraries"
   ]
  },
  {
   "cell_type": "code",
   "execution_count": 1,
   "metadata": {},
   "outputs": [],
   "source": [
    "import pandas as pd\n",
    "import numpy as np\n",
    "import json\n",
    "import matplotlib.pyplot as plt\n",
    "from sklearn.utils import shuffle\n",
    "from sklearn.model_selection import train_test_split\n",
    "import math\n",
    "from scipy.spatial import distance\n",
    "from sklearn.metrics import accuracy_score\n",
    "\n",
    "# custom files\n",
    "from word_vectorization import create_tf_vector_all_reviews, create_idf_dictionary, create_word_vector_dict\n",
    "from data_transformation import get_overview, clean_data, balancing\n",
    "from knn import knn"
   ]
  },
  {
   "cell_type": "markdown",
   "metadata": {},
   "source": [
    "--------"
   ]
  },
  {
   "cell_type": "markdown",
   "metadata": {},
   "source": [
    "## Import Data"
   ]
  },
  {
   "cell_type": "code",
   "execution_count": 2,
   "metadata": {},
   "outputs": [],
   "source": [
    "# read subset data\n",
    "#path = \"./data/AMAZON_FASHION_5.json\"\n",
    "\n",
    "# read full data\n",
    "path = \"./data/AMAZON_FASHION_FULL.json\"\n",
    "\n",
    "data = pd.read_json(path, lines = True)"
   ]
  },
  {
   "cell_type": "markdown",
   "metadata": {},
   "source": [
    "-------"
   ]
  },
  {
   "cell_type": "markdown",
   "metadata": {},
   "source": [
    "# Data overview"
   ]
  },
  {
   "cell_type": "code",
   "execution_count": 3,
   "metadata": {
    "scrolled": false
   },
   "outputs": [
    {
     "name": "stdout",
     "output_type": "stream",
     "text": [
      "Data has 883636 datapoints.\n",
      "Data has 12 columns.\n",
      "Columns: dtype\n",
      "{'overall': 'int64', 'verified': 'bool', 'reviewTime': 'object', 'reviewerID': 'object', 'asin': 'object', 'reviewerName': 'object', 'reviewText': 'object', 'summary': 'object', 'unixReviewTime': 'int64', 'vote': 'float64', 'style': 'object', 'image': 'object'}\n"
     ]
    }
   ],
   "source": [
    "get_overview(data)"
   ]
  },
  {
   "cell_type": "markdown",
   "metadata": {},
   "source": [
    "--------"
   ]
  },
  {
   "cell_type": "markdown",
   "metadata": {},
   "source": [
    "## Data Cleaning"
   ]
  },
  {
   "cell_type": "code",
   "execution_count": 4,
   "metadata": {
    "scrolled": true
   },
   "outputs": [
    {
     "name": "stdout",
     "output_type": "stream",
     "text": [
      "Dropped 10 columns.\n",
      "Droppend 1233 null values.\n",
      "Data contains now 882403 datapoints.\n"
     ]
    }
   ],
   "source": [
    "keepColumns = [\"overall\", \"reviewText\"]\n",
    "data = clean_data(data, keepColumns)"
   ]
  },
  {
   "cell_type": "markdown",
   "metadata": {},
   "source": [
    "-------"
   ]
  },
  {
   "cell_type": "markdown",
   "metadata": {},
   "source": [
    "## Balancing"
   ]
  },
  {
   "cell_type": "code",
   "execution_count": 5,
   "metadata": {
    "scrolled": false
   },
   "outputs": [
    {
     "name": "stdout",
     "output_type": "stream",
     "text": [
      "Most saved rating is 5 with 464591 datapoints.\n",
      "Least saved rating is 2 with 64690 datapoints.\n"
     ]
    },
    {
     "data": {
      "image/png": "[encoded data removed]",
      "text/plain": [
       "<Figure size 432x288 with 1 Axes>"
      ]
     },
     "metadata": {
      "needs_background": "light"
     },
     "output_type": "display_data"
    }
   ],
   "source": [
    "max_num = 1000 # replace lateron\n",
    "data = balancing(data, balancing = True, max_num = max_num)"
   ]
  },
  {
   "cell_type": "code",
   "execution_count": 6,
   "metadata": {},
   "outputs": [
    {
     "name": "stdout",
     "output_type": "stream",
     "text": [
      "Most saved rating is 1 with 1000 datapoints.\n",
      "Least saved rating is 1 with 1000 datapoints.\n"
     ]
    },
    {
     "data": {
      "image/png": "[encoded data removed]",
      "text/plain": [
       "<Figure size 432x288 with 1 Axes>"
      ]
     },
     "metadata": {
      "needs_background": "light"
     },
     "output_type": "display_data"
    }
   ],
   "source": [
    "# check balancing\n",
    "balancing(data, balancing = False, max_num = None)"
   ]
  },
  {
   "cell_type": "markdown",
   "metadata": {},
   "source": [
    "-------"
   ]
  },
  {
   "cell_type": "markdown",
   "metadata": {},
   "source": [
    "## Word Vectors"
   ]
  },
  {
   "cell_type": "code",
   "execution_count": 7,
   "metadata": {},
   "outputs": [],
   "source": [
    "def save_dict_to_json(dic, filename):\n",
    "    \n",
    "    # append .json\n",
    "    filename += \".json\"\n",
    "    \n",
    "    f = open(filename, \"w\")\n",
    "    json.dump(dic, f)\n",
    "    f.close()\n",
    "\n",
    "def load_doc_from_json(filename):\n",
    "    \n",
    "    # append .json\n",
    "    filename += \".json\"\n",
    "    \n",
    "    f = open(filename, \"w\")\n",
    "    dic = f.read()\n",
    "    f.close()"
   ]
  },
  {
   "cell_type": "code",
   "execution_count": 8,
   "metadata": {},
   "outputs": [],
   "source": [
    "# create review_dict\n",
    "review_dict = create_tf_vector_all_reviews(data)\n",
    "#save_dict_to_json(review_dict, \"review_dict\")\n",
    "\n",
    "# create idf dict\n",
    "idf_dict = create_idf_dictionary(review_dict)\n",
    "#save_dict_to_json(idf_dict, \"idf_dict\")\n",
    "\n",
    "# create word_vec_dict\n",
    "word_vec_dict = create_word_vector_dict(review_dict, idf_dict) # speed = 0.2 seconds per datapoint\n",
    "#np.save('word_vec_dict.npy', word_vec_dict)\n",
    "\n",
    "# include word_vec_dict in dataframe\n",
    "data[\"word_vectors\"] = word_vec_dict.values()"
   ]
  },
  {
   "cell_type": "code",
   "execution_count": 9,
   "metadata": {},
   "outputs": [],
   "source": [
    "# alternative without processing word vectors\n",
    "word_vec_dict = np.load('word_vec_dict.npy', allow_pickle=True)[()]\n",
    "data[\"word_vectors\"] = word_vec_dict.values()\n",
    "data.to_json(\"data_with_word_vectors\")"
   ]
  },
  {
   "cell_type": "code",
   "execution_count": 9,
   "metadata": {
    "scrolled": true
   },
   "outputs": [
    {
     "data": {
      "text/html": [
       "<div>\n",
       "<style scoped>\n",
       "    .dataframe tbody tr th:only-of-type {\n",
       "        vertical-align: middle;\n",
       "    }\n",
       "\n",
       "    .dataframe tbody tr th {\n",
       "        vertical-align: top;\n",
       "    }\n",
       "\n",
       "    .dataframe thead th {\n",
       "        text-align: right;\n",
       "    }\n",
       "</style>\n",
       "<table border=\"1\" class=\"dataframe\">\n",
       "  <thead>\n",
       "    <tr style=\"text-align: right;\">\n",
       "      <th></th>\n",
       "      <th>overall</th>\n",
       "      <th>reviewText</th>\n",
       "      <th>word_vectors</th>\n",
       "    </tr>\n",
       "  </thead>\n",
       "  <tbody>\n",
       "    <tr>\n",
       "      <th>0</th>\n",
       "      <td>2</td>\n",
       "      <td>I agree with the other review, the opening is ...</td>\n",
       "      <td>(0.0, 0.0, 0.0, 0.0, 0.0, 0.0, 0.0, 0.0, 0.0, ...</td>\n",
       "    </tr>\n",
       "    <tr>\n",
       "      <th>1</th>\n",
       "      <td>2</td>\n",
       "      <td>too tiny an opening</td>\n",
       "      <td>(0.0, 0.0, 0.0, 0.0, 0.0, 0.0, 0.0, 0.0, 0.0, ...</td>\n",
       "    </tr>\n",
       "    <tr>\n",
       "      <th>2</th>\n",
       "      <td>2</td>\n",
       "      <td>I smoke 100's and these are NOT made for them....</td>\n",
       "      <td>(0.0, 0.0, 0.0, 0.0, 0.0, 0.0, 0.0, 0.0, 0.0, ...</td>\n",
       "    </tr>\n",
       "    <tr>\n",
       "      <th>3</th>\n",
       "      <td>2</td>\n",
       "      <td>It's ok, It doesn't close if you have 100's</td>\n",
       "      <td>(0.0, 0.0, 0.0, 0.0, 0.0, 0.0, 0.0, 0.0, 0.0, ...</td>\n",
       "    </tr>\n",
       "    <tr>\n",
       "      <th>4</th>\n",
       "      <td>2</td>\n",
       "      <td>Is very small. Doesn't  fit my smokes...</td>\n",
       "      <td>(0.0, 0.0, 0.0, 0.0, 0.0, 0.0, 0.0, 0.0, 0.0, ...</td>\n",
       "    </tr>\n",
       "  </tbody>\n",
       "</table>\n",
       "</div>"
      ],
      "text/plain": [
       "   overall                                         reviewText  \\\n",
       "0        2  I agree with the other review, the opening is ...   \n",
       "1        2                                too tiny an opening   \n",
       "2        2  I smoke 100's and these are NOT made for them....   \n",
       "3        2        It's ok, It doesn't close if you have 100's   \n",
       "4        2           Is very small. Doesn't  fit my smokes...   \n",
       "\n",
       "                                        word_vectors  \n",
       "0  (0.0, 0.0, 0.0, 0.0, 0.0, 0.0, 0.0, 0.0, 0.0, ...  \n",
       "1  (0.0, 0.0, 0.0, 0.0, 0.0, 0.0, 0.0, 0.0, 0.0, ...  \n",
       "2  (0.0, 0.0, 0.0, 0.0, 0.0, 0.0, 0.0, 0.0, 0.0, ...  \n",
       "3  (0.0, 0.0, 0.0, 0.0, 0.0, 0.0, 0.0, 0.0, 0.0, ...  \n",
       "4  (0.0, 0.0, 0.0, 0.0, 0.0, 0.0, 0.0, 0.0, 0.0, ...  "
      ]
     },
     "execution_count": 9,
     "metadata": {},
     "output_type": "execute_result"
    }
   ],
   "source": [
    "# get a look at the data\n",
    "data.head()"
   ]
  },
  {
   "cell_type": "markdown",
   "metadata": {},
   "source": [
    "------"
   ]
  },
  {
   "cell_type": "markdown",
   "metadata": {},
   "source": [
    "## Train Test Split"
   ]
  },
  {
   "cell_type": "code",
   "execution_count": 10,
   "metadata": {},
   "outputs": [],
   "source": [
    "# create test and training dataset\n",
    "test_size = 0.2\n",
    "train_data, test_data = train_test_split(data,\n",
    "                                         test_size = test_size,\n",
    "                                         shuffle=True,\n",
    "                                         stratify = data[\"overall\"]\n",
    "                                        )\n",
    "\n",
    "train_data = train_data.reset_index(drop = True)\n",
    "test_data = test_data.reset_index(drop = True)"
   ]
  },
  {
   "cell_type": "markdown",
   "metadata": {},
   "source": [
    "-------"
   ]
  },
  {
   "cell_type": "markdown",
   "metadata": {},
   "source": [
    "# Now start Sentiment analysis"
   ]
  },
  {
   "cell_type": "markdown",
   "metadata": {},
   "source": [
    "-------"
   ]
  },
  {
   "cell_type": "markdown",
   "metadata": {},
   "source": [
    "## knn"
   ]
  },
  {
   "cell_type": "code",
   "execution_count": 11,
   "metadata": {
    "scrolled": true
   },
   "outputs": [
    {
     "name": "stdout",
     "output_type": "stream",
     "text": [
      "Test Datapoint has class: 5\n",
      "Original class was 2\n"
     ]
    }
   ],
   "source": [
    "# test single n\n",
    "\n",
    "# init variables\n",
    "data_point = test_data[:1]\n",
    "data_point_class = int(data_point[\"overall\"])\n",
    "data_point = np.asarray(data_point[\"word_vectors\"].to_list())\n",
    "n = 3\n",
    "\n",
    "# calc class\n",
    "calc_class = knn(train_data, data_point, n)\n",
    "\n",
    "print(f\"Test Datapoint has class: {calc_class}\")\n",
    "print(f\"Original class was {data_point_class}\")"
   ]
  },
  {
   "cell_type": "code",
   "execution_count": 12,
   "metadata": {},
   "outputs": [
    {
     "name": "stdout",
     "output_type": "stream",
     "text": [
      "Test Datapoint has class: {1: 5, 2: 5, 3: 5, 4: 5, 5: 5}\n",
      "Original class was 2\n"
     ]
    }
   ],
   "source": [
    "# test multiple n\n",
    "\n",
    "# init variables\n",
    "data_point = test_data[:1]\n",
    "data_point_class = int(data_point[\"overall\"])\n",
    "data_point = np.asarray(data_point[\"word_vectors\"].to_list())\n",
    "n = [1,2,3,4,5]\n",
    "\n",
    "# calc class\n",
    "calc_class = knn(train_data, data_point, n)\n",
    "\n",
    "print(f\"Test Datapoint has class: {calc_class}\")\n",
    "print(f\"Original class was {data_point_class}\")"
   ]
  },
  {
   "cell_type": "code",
   "execution_count": 13,
   "metadata": {},
   "outputs": [
    {
     "data": {
      "image/png": "[encoded data removed]",
      "text/plain": [
       "<Figure size 432x288 with 1 Axes>"
      ]
     },
     "metadata": {
      "needs_background": "light"
     },
     "output_type": "display_data"
    }
   ],
   "source": [
    "# test accuracy\n",
    "\n",
    "# get test data\n",
    "test_vectors = test_data[\"word_vectors\"].to_list()\n",
    "test_classes = test_data[\"overall\"].to_list()\n",
    "\n",
    "# init variables\n",
    "pred_class = []\n",
    "n_test = list(range(1,30))\n",
    "\n",
    "# get classes \n",
    "for t_vector in test_vectors:\n",
    "\n",
    "    pred_class.append(knn(train_data, np.asarray(t_vector), n_test))\n",
    "    \n",
    "# init accuracy dict\n",
    "acc_dict = {}\n",
    "\n",
    "for sub_n in n_test:\n",
    "    \n",
    "    sub_n_val_classes = []\n",
    "    \n",
    "    for test_el in pred_class:\n",
    "        \n",
    "        sub_n_val_classes.append(test_el[sub_n])\n",
    "    \n",
    "    # get accuracy of sub_n\n",
    "    accuracy = accuracy_score(test_classes, sub_n_val_classes)\n",
    "    acc_dict[sub_n] = accuracy\n",
    "\n",
    "# visualize\n",
    "plt.plot(list(acc_dict.keys()), list(acc_dict.values()))\n",
    "plt.show()"
   ]
  },
  {
   "cell_type": "markdown",
   "metadata": {},
   "source": [
    "----"
   ]
  },
  {
   "cell_type": "code",
   "execution_count": 98,
   "metadata": {},
   "outputs": [
    {
     "data": {
      "image/png": "[encoded data removed]",
      "text/plain": [
       "<Figure size 432x288 with 1 Axes>"
      ]
     },
     "metadata": {
      "needs_background": "light"
     },
     "output_type": "display_data"
    }
   ],
   "source": [
    "# visualize \n",
    "plt.plot(list(evalualtion_dict.keys()), list(evalualtion_dict.values()))\n",
    "plt.show()"
   ]
  },
  {
   "cell_type": "markdown",
   "metadata": {},
   "source": [
    "----------"
   ]
  },
  {
   "cell_type": "markdown",
   "metadata": {},
   "source": [
    "Task: knn in own python file, rewrite to be completly independent of other libs"
   ]
  },
  {
   "cell_type": "markdown",
   "metadata": {},
   "source": [
    "-------------"
   ]
  },
  {
   "cell_type": "code",
   "execution_count": null,
   "metadata": {},
   "outputs": [],
   "source": []
  }
 ],
 "metadata": {
  "kernelspec": {
   "display_name": "Python 3",
   "language": "python",
   "name": "python3"
  },
  "language_info": {
   "codemirror_mode": {
    "name": "ipython",
    "version": 3
   },
   "file_extension": ".py",
   "mimetype": "text/x-python",
   "name": "python",
   "nbconvert_exporter": "python",
   "pygments_lexer": "ipython3",
   "version": "3.8.5"
  }
 },
 "nbformat": 4,
 "nbformat_minor": 4
}
