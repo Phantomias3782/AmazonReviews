{
 "cells": [
  {
   "cell_type": "markdown",
   "metadata": {},
   "source": [
    "# This Notebook will include graphical analysis of Amazon review data"
   ]
  },
  {
   "cell_type": "markdown",
   "metadata": {},
   "source": [
    "Source:\n",
    "\n",
    "Justifying recommendations using distantly-labeled reviews and fined-grained aspects.\n",
    "\n",
    "Jianmo Ni, Jiacheng Li, Julian McAuley.\n",
    "\n",
    "Empirical Methods in Natural Language Processing (EMNLP), 2019.\n",
    "\n",
    "https://nijianmo.github.io/amazon/index.html\n",
    "\n",
    "http://deepyeti.ucsd.edu/jianmo/amazon/index.html"
   ]
  },
  {
   "cell_type": "markdown",
   "metadata": {},
   "source": [
    "------------------------------"
   ]
  },
  {
   "cell_type": "markdown",
   "metadata": {},
   "source": [
    "Sentiment analysis code shall be later on transfered to .py files for easy execution"
   ]
  },
  {
   "cell_type": "markdown",
   "metadata": {},
   "source": [
    "---------------"
   ]
  },
  {
   "cell_type": "code",
   "execution_count": 60,
   "metadata": {},
   "outputs": [],
   "source": [
    "# import libraries\n",
    "import pandas as pd\n",
    "import numpy as np\n",
    "import matplotlib.pyplot as plt\n",
    "from sklearn.utils import shuffle\n",
    "from sklearn.model_selection import train_test_split\n",
    "import math"
   ]
  },
  {
   "cell_type": "code",
   "execution_count": 22,
   "metadata": {},
   "outputs": [],
   "source": [
    "# read data\n",
    "path = \"./data/AMAZON_FASHION_5.json\"\n",
    "\n",
    "data = pd.read_json(path, lines = True)"
   ]
  },
  {
   "cell_type": "code",
   "execution_count": 23,
   "metadata": {},
   "outputs": [
    {
     "name": "stdout",
     "output_type": "stream",
     "text": [
      "Data has 3176 datapoints.\n",
      "Data has 12 Columns.\n",
      "Columns:\n",
      "['overall', 'verified', 'reviewTime', 'reviewerID', 'asin', 'style', 'reviewerName', 'reviewText', 'summary', 'unixReviewTime', 'vote', 'image']\n"
     ]
    }
   ],
   "source": [
    "# get first look\n",
    "print(f\"Data has {len(data)} datapoints.\")\n",
    "print(f\"Data has {len(data.columns)} Columns.\")\n",
    "\n",
    "print(\"Columns:\")\n",
    "print(list(data.columns))"
   ]
  },
  {
   "cell_type": "code",
   "execution_count": 24,
   "metadata": {
    "scrolled": true
   },
   "outputs": [
    {
     "data": {
      "text/html": [
       "<div>\n",
       "<style scoped>\n",
       "    .dataframe tbody tr th:only-of-type {\n",
       "        vertical-align: middle;\n",
       "    }\n",
       "\n",
       "    .dataframe tbody tr th {\n",
       "        vertical-align: top;\n",
       "    }\n",
       "\n",
       "    .dataframe thead th {\n",
       "        text-align: right;\n",
       "    }\n",
       "</style>\n",
       "<table border=\"1\" class=\"dataframe\">\n",
       "  <thead>\n",
       "    <tr style=\"text-align: right;\">\n",
       "      <th></th>\n",
       "      <th>overall</th>\n",
       "      <th>verified</th>\n",
       "      <th>reviewTime</th>\n",
       "      <th>reviewerID</th>\n",
       "      <th>asin</th>\n",
       "      <th>style</th>\n",
       "      <th>reviewerName</th>\n",
       "      <th>reviewText</th>\n",
       "      <th>summary</th>\n",
       "      <th>unixReviewTime</th>\n",
       "      <th>vote</th>\n",
       "      <th>image</th>\n",
       "    </tr>\n",
       "  </thead>\n",
       "  <tbody>\n",
       "    <tr>\n",
       "      <th>0</th>\n",
       "      <td>5</td>\n",
       "      <td>True</td>\n",
       "      <td>09 4, 2015</td>\n",
       "      <td>ALJ66O1Y6SLHA</td>\n",
       "      <td>B000K2PJ4K</td>\n",
       "      <td>{'Size:': ' Big Boys', 'Color:': ' Blue/Orange'}</td>\n",
       "      <td>Tonya B.</td>\n",
       "      <td>Great product and price!</td>\n",
       "      <td>Five Stars</td>\n",
       "      <td>1441324800</td>\n",
       "      <td>NaN</td>\n",
       "      <td>NaN</td>\n",
       "    </tr>\n",
       "    <tr>\n",
       "      <th>1</th>\n",
       "      <td>5</td>\n",
       "      <td>True</td>\n",
       "      <td>09 4, 2015</td>\n",
       "      <td>ALJ66O1Y6SLHA</td>\n",
       "      <td>B000K2PJ4K</td>\n",
       "      <td>{'Size:': ' Big Boys', 'Color:': ' Black (3746...</td>\n",
       "      <td>Tonya B.</td>\n",
       "      <td>Great product and price!</td>\n",
       "      <td>Five Stars</td>\n",
       "      <td>1441324800</td>\n",
       "      <td>NaN</td>\n",
       "      <td>NaN</td>\n",
       "    </tr>\n",
       "    <tr>\n",
       "      <th>2</th>\n",
       "      <td>5</td>\n",
       "      <td>True</td>\n",
       "      <td>09 4, 2015</td>\n",
       "      <td>ALJ66O1Y6SLHA</td>\n",
       "      <td>B000K2PJ4K</td>\n",
       "      <td>{'Size:': ' Big Boys', 'Color:': ' Blue/Gray L...</td>\n",
       "      <td>Tonya B.</td>\n",
       "      <td>Great product and price!</td>\n",
       "      <td>Five Stars</td>\n",
       "      <td>1441324800</td>\n",
       "      <td>NaN</td>\n",
       "      <td>NaN</td>\n",
       "    </tr>\n",
       "    <tr>\n",
       "      <th>3</th>\n",
       "      <td>5</td>\n",
       "      <td>True</td>\n",
       "      <td>09 4, 2015</td>\n",
       "      <td>ALJ66O1Y6SLHA</td>\n",
       "      <td>B000K2PJ4K</td>\n",
       "      <td>{'Size:': ' Big Boys', 'Color:': ' Blue (37867...</td>\n",
       "      <td>Tonya B.</td>\n",
       "      <td>Great product and price!</td>\n",
       "      <td>Five Stars</td>\n",
       "      <td>1441324800</td>\n",
       "      <td>NaN</td>\n",
       "      <td>NaN</td>\n",
       "    </tr>\n",
       "    <tr>\n",
       "      <th>4</th>\n",
       "      <td>5</td>\n",
       "      <td>True</td>\n",
       "      <td>09 4, 2015</td>\n",
       "      <td>ALJ66O1Y6SLHA</td>\n",
       "      <td>B000K2PJ4K</td>\n",
       "      <td>{'Size:': ' Big Boys', 'Color:': ' Blue/Pink'}</td>\n",
       "      <td>Tonya B.</td>\n",
       "      <td>Great product and price!</td>\n",
       "      <td>Five Stars</td>\n",
       "      <td>1441324800</td>\n",
       "      <td>NaN</td>\n",
       "      <td>NaN</td>\n",
       "    </tr>\n",
       "  </tbody>\n",
       "</table>\n",
       "</div>"
      ],
      "text/plain": [
       "   overall  verified  reviewTime     reviewerID        asin  \\\n",
       "0        5      True  09 4, 2015  ALJ66O1Y6SLHA  B000K2PJ4K   \n",
       "1        5      True  09 4, 2015  ALJ66O1Y6SLHA  B000K2PJ4K   \n",
       "2        5      True  09 4, 2015  ALJ66O1Y6SLHA  B000K2PJ4K   \n",
       "3        5      True  09 4, 2015  ALJ66O1Y6SLHA  B000K2PJ4K   \n",
       "4        5      True  09 4, 2015  ALJ66O1Y6SLHA  B000K2PJ4K   \n",
       "\n",
       "                                               style reviewerName  \\\n",
       "0   {'Size:': ' Big Boys', 'Color:': ' Blue/Orange'}     Tonya B.   \n",
       "1  {'Size:': ' Big Boys', 'Color:': ' Black (3746...     Tonya B.   \n",
       "2  {'Size:': ' Big Boys', 'Color:': ' Blue/Gray L...     Tonya B.   \n",
       "3  {'Size:': ' Big Boys', 'Color:': ' Blue (37867...     Tonya B.   \n",
       "4     {'Size:': ' Big Boys', 'Color:': ' Blue/Pink'}     Tonya B.   \n",
       "\n",
       "                 reviewText     summary  unixReviewTime  vote image  \n",
       "0  Great product and price!  Five Stars      1441324800   NaN   NaN  \n",
       "1  Great product and price!  Five Stars      1441324800   NaN   NaN  \n",
       "2  Great product and price!  Five Stars      1441324800   NaN   NaN  \n",
       "3  Great product and price!  Five Stars      1441324800   NaN   NaN  \n",
       "4  Great product and price!  Five Stars      1441324800   NaN   NaN  "
      ]
     },
     "execution_count": 24,
     "metadata": {},
     "output_type": "execute_result"
    }
   ],
   "source": [
    "data.head()"
   ]
  },
  {
   "cell_type": "code",
   "execution_count": 25,
   "metadata": {},
   "outputs": [
    {
     "name": "stdout",
     "output_type": "stream",
     "text": [
      "3176\n",
      "3160\n"
     ]
    }
   ],
   "source": [
    "# drop unnedded columns\n",
    "columns_keep = [\"overall\", \"reviewText\", \"summary\"]\n",
    "drop_columns = [i for i in list(data.columns) if i not in columns_keep]\n",
    "\n",
    "data.drop(drop_columns, axis=1, inplace=True)\n",
    "\n",
    "# drop nan\n",
    "print(len(data))\n",
    "data = data.dropna()\n",
    "print(len(data))"
   ]
  },
  {
   "cell_type": "code",
   "execution_count": 26,
   "metadata": {},
   "outputs": [
    {
     "name": "stdout",
     "output_type": "stream",
     "text": [
      "Most saved rating is 5 with 2142 datapoints.\n",
      "Least saved rating is 2 with 93 datapoints.\n"
     ]
    },
    {
     "data": {
      "image/png": "[encoded data removed]",
      "text/plain": [
       "<Figure size 432x288 with 1 Axes>"
      ]
     },
     "metadata": {
      "needs_background": "light"
     },
     "output_type": "display_data"
    }
   ],
   "source": [
    "# how many datapoints per rating\n",
    "rating_count = {}\n",
    "all_ratings = sorted(data[\"overall\"].unique())\n",
    "\n",
    "\n",
    "for rating in all_ratings:\n",
    "    \n",
    "    rating_count[rating] = len(data[data[\"overall\"] == rating])\n",
    "\n",
    "# data information\n",
    "most_rated = max(rating_count, key = rating_count.get)\n",
    "least_rated = min(rating_count, key = rating_count.get)\n",
    "print(f\"Most saved rating is {most_rated} with {rating_count[most_rated]} datapoints.\")\n",
    "print(f\"Least saved rating is {least_rated} with {rating_count[least_rated]} datapoints.\")\n",
    "\n",
    "# show graph\n",
    "plt.bar(list(rating_count.keys()), list(rating_count.values()))\n",
    "plt.show()"
   ]
  },
  {
   "cell_type": "markdown",
   "metadata": {},
   "source": [
    "-----------"
   ]
  },
  {
   "cell_type": "markdown",
   "metadata": {},
   "source": [
    "# provisionally Conclusion"
   ]
  },
  {
   "cell_type": "markdown",
   "metadata": {},
   "source": [
    "Sample Data is highly imbalanced.\n",
    "\n",
    "For now there should be used a sub_dataset with evenly distributed data.\n",
    "\n",
    "This effect should be considered when using whole dataset"
   ]
  },
  {
   "cell_type": "markdown",
   "metadata": {},
   "source": [
    "------------"
   ]
  },
  {
   "cell_type": "code",
   "execution_count": 73,
   "metadata": {},
   "outputs": [],
   "source": [
    "# create balanced dataset by min count class (function from: https://stackoverflow.com/questions/45839316/pandas-balancing-data)\n",
    "data_balanced = data[data[\"overall\"] == least_rated]\n",
    "remain_ratings = [i for i in all_ratings if i != least_rated]\n",
    "\n",
    "\n",
    "for remain_rating in remain_ratings:\n",
    "    \n",
    "    # append data\n",
    "    data_balanced = data_balanced.append(data[data[\"overall\"] == remain_rating][:rating_count[least_rated]])\n",
    "\n",
    "# reset index\n",
    "data_balanced = data_balanced.reset_index(drop = True)"
   ]
  },
  {
   "cell_type": "code",
   "execution_count": 74,
   "metadata": {},
   "outputs": [],
   "source": [
    "# vectorize all tetxs\n",
    "## use tf and idf functions of Document finding (previous Lecture)\n",
    "\n",
    "def check_word(word):\n",
    "    \"Check if word is valid due to some restrictions\"\n",
    "    \n",
    "    exception_list = [\"\\n\"]\n",
    "    \n",
    "    for element in exception_list:\n",
    "        \n",
    "        if element in word:\n",
    "            \n",
    "            return False\n",
    "    \n",
    "    if len(word) < 4:\n",
    "        \n",
    "        return False\n",
    "    \n",
    "    if word.isalpha():\n",
    "    \n",
    "        return True\n",
    "    \n",
    "    else:\n",
    "        \n",
    "        return False\n",
    "\n",
    "def create_tf_vector(data):\n",
    "    \"Create tf_vector as dict\"\n",
    "    \n",
    "    words = data.split(\" \")\n",
    "    \n",
    "    tmp_dict = {}\n",
    "    \n",
    "    count = 0\n",
    "        \n",
    "    for word in words:\n",
    "        \n",
    "        word = word.lower()\n",
    "        \n",
    "        if check_word(word):\n",
    "            \n",
    "            count += 1\n",
    "\n",
    "            if word in tmp_dict.keys():\n",
    "\n",
    "                tmp_dict[word] += 1\n",
    "\n",
    "            else:\n",
    "\n",
    "                tmp_dict[word] = 1\n",
    "    \n",
    "    for key in tmp_dict.keys():\n",
    "        \n",
    "        tmp_dict[key] = tmp_dict[key] / count\n",
    "    \n",
    "    return tmp_dict\n",
    "\n",
    "def create_tf_vector_all_reviews(dataframe, column = \"reviewText\"):\n",
    "    \"create a dictionary for each review with the corresponding tf as value\"\n",
    "\n",
    "    # initialize variables\n",
    "    index = 0\n",
    "    tf_dict = {}\n",
    "    \n",
    "    # get all reviewTexts\n",
    "    reviewTexts = list(data_balanced[column])\n",
    "    \n",
    "    # create tf dicts\n",
    "    for element in reviewTexts:\n",
    "        \n",
    "        tf_dict[index] = create_tf_vector(element)\n",
    "        index += 1\n",
    "    \n",
    "    return tf_dict\n",
    "\n",
    "def create_idf_dictionary(tf_dict):\n",
    "\n",
    "    # create idf dictionary\n",
    "\n",
    "    idf_dict = {}\n",
    "\n",
    "    document_count = 0\n",
    "\n",
    "    for review_dict in tf_dict.keys():\n",
    "\n",
    "        document_count += 1\n",
    "        \n",
    "        key_list = list(tf_dict[review_dict].keys())\n",
    "\n",
    "        for list_word in key_list:\n",
    "\n",
    "            if list_word in idf_dict:\n",
    "\n",
    "                idf_dict[list_word] += 1\n",
    "\n",
    "            else:\n",
    "\n",
    "                idf_dict[list_word] = 1\n",
    "\n",
    "\n",
    "    for key in idf_dict.keys():\n",
    "\n",
    "        idf_dict[key] = math.log(document_count / idf_dict[key])\n",
    "    \n",
    "    return idf_dict\n",
    "\n",
    "def create_word_vector(idf_dict, tf_dict):\n",
    "    \n",
    "    tmp_word_vec_dict = {}\n",
    "    \n",
    "    for idf in idf_dict.keys():\n",
    "            \n",
    "            if idf in tf_dict.keys():\n",
    "                \n",
    "                tmp_word_vec_dict[idf] = tf_dict[idf] * idf_dict[idf]\n",
    "            \n",
    "            else:\n",
    "                \n",
    "                tmp_word_vec_dict[idf] = 0\n",
    "    \n",
    "    sorted_word_vec = dict(sorted(tmp_word_vec_dict.items()))\n",
    "    \n",
    "    return sorted_word_vec\n",
    "\n",
    "def create_word_vector_dict(review_dict, idf_dict):\n",
    "\n",
    "    word_vector_dict_textual = {} # can be depriciated lateron\n",
    "    word_vector_dict_array = {}\n",
    "\n",
    "    for review_index in review_dict.keys():\n",
    "\n",
    "            word_vector_dict_textual[review_index] = create_word_vector(idf_dict, review_dict[review_index]) # can be depriciated lateron\n",
    "            word_vector_dict_array[review_index] = np.array(\n",
    "                pd.Series(\n",
    "                    create_word_vector(idf_dict, review_dict[review_index])\n",
    "                )\n",
    "            )\n",
    "    \n",
    "    return word_vector_dict_array"
   ]
  },
  {
   "cell_type": "code",
   "execution_count": 101,
   "metadata": {},
   "outputs": [],
   "source": [
    "# create review_dict\n",
    "review_dict = create_tf_vector_all_reviews(data_balanced)\n",
    "\n",
    "# create idf dict\n",
    "idf_dict = create_idf_dictionary(tf_dict)\n",
    "\n",
    "# create word_vec_dict\n",
    "word_vec_dict = create_word_vector_dict(review_dict, idf_dict)\n",
    "\n",
    "# include word_vec_dict in dataframe\n",
    "data_balanced[\"word_vectors\"] = word_vec_dict.values()"
   ]
  },
  {
   "cell_type": "code",
   "execution_count": 103,
   "metadata": {
    "scrolled": true
   },
   "outputs": [
    {
     "data": {
      "text/html": [
       "<div>\n",
       "<style scoped>\n",
       "    .dataframe tbody tr th:only-of-type {\n",
       "        vertical-align: middle;\n",
       "    }\n",
       "\n",
       "    .dataframe tbody tr th {\n",
       "        vertical-align: top;\n",
       "    }\n",
       "\n",
       "    .dataframe thead th {\n",
       "        text-align: right;\n",
       "    }\n",
       "</style>\n",
       "<table border=\"1\" class=\"dataframe\">\n",
       "  <thead>\n",
       "    <tr style=\"text-align: right;\">\n",
       "      <th></th>\n",
       "      <th>overall</th>\n",
       "      <th>reviewText</th>\n",
       "      <th>summary</th>\n",
       "      <th>word_vectors</th>\n",
       "    </tr>\n",
       "  </thead>\n",
       "  <tbody>\n",
       "    <tr>\n",
       "      <th>0</th>\n",
       "      <td>2</td>\n",
       "      <td>Relieved my Plantar Fascitis for 3 Days. Then ...</td>\n",
       "      <td>These were recommended by my Podiatrist</td>\n",
       "      <td>(0.0, 0.0, 0.0, 0.0, 0.0, 0.0, 0.0, 0.0, 0.0, ...</td>\n",
       "    </tr>\n",
       "    <tr>\n",
       "      <th>1</th>\n",
       "      <td>2</td>\n",
       "      <td>This is my 6th pair and they are the best thin...</td>\n",
       "      <td>Not the same as all my other pairs.</td>\n",
       "      <td>(0.0, 0.0, 0.0, 0.0, 0.0, 0.0, 0.0, 0.0, 0.0, ...</td>\n",
       "    </tr>\n",
       "    <tr>\n",
       "      <th>2</th>\n",
       "      <td>2</td>\n",
       "      <td>Relieved my Plantar Fascitis for 3 Days. Then ...</td>\n",
       "      <td>These were recommended by my Podiatrist</td>\n",
       "      <td>(0.0, 0.0, 0.0, 0.0, 0.0, 0.0, 0.0, 0.0, 0.0, ...</td>\n",
       "    </tr>\n",
       "    <tr>\n",
       "      <th>3</th>\n",
       "      <td>2</td>\n",
       "      <td>This is my 6th pair and they are the best thin...</td>\n",
       "      <td>Not the same as all my other pairs.</td>\n",
       "      <td>(0.0, 0.0, 0.0, 0.0, 0.0, 0.0, 0.0, 0.0, 0.0, ...</td>\n",
       "    </tr>\n",
       "    <tr>\n",
       "      <th>4</th>\n",
       "      <td>2</td>\n",
       "      <td>Nice pants but too small for a medium. Return it.</td>\n",
       "      <td>Returned also</td>\n",
       "      <td>(0.0, 0.0, 0.0, 0.0, 0.0, 0.0, 0.0, 0.0, 0.0, ...</td>\n",
       "    </tr>\n",
       "  </tbody>\n",
       "</table>\n",
       "</div>"
      ],
      "text/plain": [
       "   overall                                         reviewText  \\\n",
       "0        2  Relieved my Plantar Fascitis for 3 Days. Then ...   \n",
       "1        2  This is my 6th pair and they are the best thin...   \n",
       "2        2  Relieved my Plantar Fascitis for 3 Days. Then ...   \n",
       "3        2  This is my 6th pair and they are the best thin...   \n",
       "4        2  Nice pants but too small for a medium. Return it.   \n",
       "\n",
       "                                   summary  \\\n",
       "0  These were recommended by my Podiatrist   \n",
       "1      Not the same as all my other pairs.   \n",
       "2  These were recommended by my Podiatrist   \n",
       "3      Not the same as all my other pairs.   \n",
       "4                            Returned also   \n",
       "\n",
       "                                        word_vectors  \n",
       "0  (0.0, 0.0, 0.0, 0.0, 0.0, 0.0, 0.0, 0.0, 0.0, ...  \n",
       "1  (0.0, 0.0, 0.0, 0.0, 0.0, 0.0, 0.0, 0.0, 0.0, ...  \n",
       "2  (0.0, 0.0, 0.0, 0.0, 0.0, 0.0, 0.0, 0.0, 0.0, ...  \n",
       "3  (0.0, 0.0, 0.0, 0.0, 0.0, 0.0, 0.0, 0.0, 0.0, ...  \n",
       "4  (0.0, 0.0, 0.0, 0.0, 0.0, 0.0, 0.0, 0.0, 0.0, ...  "
      ]
     },
     "execution_count": 103,
     "metadata": {},
     "output_type": "execute_result"
    }
   ],
   "source": [
    "# get a look at the data\n",
    "data_balanced.head()"
   ]
  },
  {
   "cell_type": "code",
   "execution_count": 104,
   "metadata": {},
   "outputs": [],
   "source": [
    "# create test and training dataset\n",
    "test_size = 0.2\n",
    "train_data, test_data = train_test_split(data_balanced,\n",
    "                                         test_size = test_size,\n",
    "                                         shuffle=True,\n",
    "                                         stratify = data_balanced[\"overall\"]\n",
    "                                        )"
   ]
  },
  {
   "cell_type": "markdown",
   "metadata": {},
   "source": [
    "-------"
   ]
  },
  {
   "cell_type": "markdown",
   "metadata": {},
   "source": [
    "# Now start Sentiment analysis"
   ]
  },
  {
   "cell_type": "markdown",
   "metadata": {},
   "source": [
    "-------"
   ]
  },
  {
   "cell_type": "code",
   "execution_count": null,
   "metadata": {},
   "outputs": [],
   "source": [
    "# now implement naive bayes"
   ]
  },
  {
   "cell_type": "code",
   "execution_count": 105,
   "metadata": {
    "scrolled": true
   },
   "outputs": [
    {
     "data": {
      "text/html": [
       "<div>\n",
       "<style scoped>\n",
       "    .dataframe tbody tr th:only-of-type {\n",
       "        vertical-align: middle;\n",
       "    }\n",
       "\n",
       "    .dataframe tbody tr th {\n",
       "        vertical-align: top;\n",
       "    }\n",
       "\n",
       "    .dataframe thead th {\n",
       "        text-align: right;\n",
       "    }\n",
       "</style>\n",
       "<table border=\"1\" class=\"dataframe\">\n",
       "  <thead>\n",
       "    <tr style=\"text-align: right;\">\n",
       "      <th></th>\n",
       "      <th>overall</th>\n",
       "      <th>reviewText</th>\n",
       "      <th>summary</th>\n",
       "      <th>word_vectors</th>\n",
       "    </tr>\n",
       "  </thead>\n",
       "  <tbody>\n",
       "    <tr>\n",
       "      <th>441</th>\n",
       "      <td>5</td>\n",
       "      <td>The color pattern and fit is what I liked the ...</td>\n",
       "      <td>The color pattern and fit is what I liked the ...</td>\n",
       "      <td>(0.0, 0.0, 0.0, 0.0, 0.0, 0.0, 0.0, 0.0, 0.0, ...</td>\n",
       "    </tr>\n",
       "    <tr>\n",
       "      <th>318</th>\n",
       "      <td>4</td>\n",
       "      <td>I have had this style before in a different co...</td>\n",
       "      <td>Love these shoes</td>\n",
       "      <td>(0.0, 0.0, 0.0, 0.0, 0.0, 0.2791835184357889, ...</td>\n",
       "    </tr>\n",
       "    <tr>\n",
       "      <th>433</th>\n",
       "      <td>5</td>\n",
       "      <td>Well made, soft, thick &amp; so very colorful. Bou...</td>\n",
       "      <td>Well made, soft, thick &amp; so very colorful ...</td>\n",
       "      <td>(0.0, 0.0, 0.0, 0.0, 0.0, 0.0, 0.0, 0.0, 0.0, ...</td>\n",
       "    </tr>\n",
       "    <tr>\n",
       "      <th>186</th>\n",
       "      <td>3</td>\n",
       "      <td>Waaay too small. Will use for futur children!</td>\n",
       "      <td>Oops!</td>\n",
       "      <td>(0.0, 0.0, 0.0, 0.0, 0.0, 0.0, 0.0, 0.0, 0.0, ...</td>\n",
       "    </tr>\n",
       "    <tr>\n",
       "      <th>185</th>\n",
       "      <td>1</td>\n",
       "      <td>Artculo equivocado en color</td>\n",
       "      <td>One Star</td>\n",
       "      <td>(0.0, 0.0, 0.0, 0.0, 0.0, 0.0, 0.0, 0.0, 0.0, ...</td>\n",
       "    </tr>\n",
       "  </tbody>\n",
       "</table>\n",
       "</div>"
      ],
      "text/plain": [
       "     overall                                         reviewText  \\\n",
       "441        5  The color pattern and fit is what I liked the ...   \n",
       "318        4  I have had this style before in a different co...   \n",
       "433        5  Well made, soft, thick & so very colorful. Bou...   \n",
       "186        3      Waaay too small. Will use for futur children!   \n",
       "185        1                        Artculo equivocado en color   \n",
       "\n",
       "                                               summary  \\\n",
       "441  The color pattern and fit is what I liked the ...   \n",
       "318                                   Love these shoes   \n",
       "433      Well made, soft, thick & so very colorful ...   \n",
       "186                                              Oops!   \n",
       "185                                           One Star   \n",
       "\n",
       "                                          word_vectors  \n",
       "441  (0.0, 0.0, 0.0, 0.0, 0.0, 0.0, 0.0, 0.0, 0.0, ...  \n",
       "318  (0.0, 0.0, 0.0, 0.0, 0.0, 0.2791835184357889, ...  \n",
       "433  (0.0, 0.0, 0.0, 0.0, 0.0, 0.0, 0.0, 0.0, 0.0, ...  \n",
       "186  (0.0, 0.0, 0.0, 0.0, 0.0, 0.0, 0.0, 0.0, 0.0, ...  \n",
       "185  (0.0, 0.0, 0.0, 0.0, 0.0, 0.0, 0.0, 0.0, 0.0, ...  "
      ]
     },
     "execution_count": 105,
     "metadata": {},
     "output_type": "execute_result"
    }
   ],
   "source": [
    "train_data.head()"
   ]
  },
  {
   "cell_type": "code",
   "execution_count": null,
   "metadata": {},
   "outputs": [],
   "source": []
  }
 ],
 "metadata": {
  "kernelspec": {
   "display_name": "Python 3",
   "language": "python",
   "name": "python3"
  },
  "language_info": {
   "codemirror_mode": {
    "name": "ipython",
    "version": 3
   },
   "file_extension": ".py",
   "mimetype": "text/x-python",
   "name": "python",
   "nbconvert_exporter": "python",
   "pygments_lexer": "ipython3",
   "version": "3.7.6"
  }
 },
 "nbformat": 4,
 "nbformat_minor": 4
}
